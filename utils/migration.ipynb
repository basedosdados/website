{
 "cells": [
  {
   "cell_type": "code",
   "execution_count": 1,
   "id": "1542a09e-af8c-45ba-8333-1fc9eebb7660",
   "metadata": {},
   "outputs": [],
   "source": [
    "%load_ext autoreload\n",
    "%autoreload 2\n",
    "\n",
    "from pprint import pprint\n",
    "import sys\n",
    "import os, json, re, requests\n",
    "import ckanapi.errors\n",
    "from ckanapi.errors import NotFound\n",
    "import pandas as pd\n",
    "import random\n",
    "\n",
    "from pathlib import Path\n",
    "import json\n",
    "\n",
    "from ckan_migration import Migrate"
   ]
  },
  {
   "cell_type": "code",
   "execution_count": 2,
   "id": "8b46013a-ea88-4289-877e-3c915fc9d788",
   "metadata": {},
   "outputs": [],
   "source": [
    "ORIGINAL_CKAN_URL = 'http://staging.basedosdados.org'"
   ]
  },
  {
   "cell_type": "code",
   "execution_count": 3,
   "id": "84933060-f6ff-4b81-9fd8-93620b254a71",
   "metadata": {
    "tags": []
   },
   "outputs": [],
   "source": [
    "def get_package_show(package):\n",
    "    api_url = ORIGINAL_CKAN_URL + f'/api/3/action/package_show?id={package}'\n",
    "    print(api_url)\n",
    "\n",
    "    return requests.get(api_url, verify=False).json()['result']\n",
    "\n",
    "def download_packages():\n",
    "    api_url = ORIGINAL_CKAN_URL + '/api/3/action/package_list'\n",
    "    packages = requests.get(api_url, verify=False).json()['result']\n",
    "\n",
    "    for p in packages:\n",
    "        json.dump(get_package_show(p), open(f'packages/{p}', 'w'))\n"
   ]
  },
  {
   "cell_type": "code",
   "execution_count": 6,
   "id": "ebc3dfbf-9a5f-4019-8be1-495e67e880f3",
   "metadata": {
    "scrolled": true,
    "tags": []
   },
   "outputs": [],
   "source": [
    "download_packages()"
   ]
  },
  {
   "cell_type": "code",
   "execution_count": 7,
   "id": "10c8d593-8a42-42cf-8884-7cc6b6bd6765",
   "metadata": {},
   "outputs": [],
   "source": [
    "\n",
    "datas_list = ['2008-2019', '1987-88, 1995-96, 2002-03, 2008-09', 'Atual',\n",
    "             '-', '2019', '1978, 1992-2019'\n",
    "             ]\n",
    "def findkeys(node, kv):\n",
    "    if isinstance(node, list):\n",
    "        for i in node:\n",
    "            for x in findkeys(i, kv):\n",
    "                yield x\n",
    "    elif isinstance(node, dict):\n",
    "        if kv in node:\n",
    "            yield node[kv]\n",
    "        for j in node.values():\n",
    "            for x in findkeys(j, kv):\n",
    "                yield x"
   ]
  },
  {
   "cell_type": "code",
   "execution_count": null,
   "id": "082ff285-45a7-4a19-8110-ee0bf026da24",
   "metadata": {},
   "outputs": [],
   "source": []
  },
  {
   "cell_type": "code",
   "execution_count": 8,
   "id": "72dd2158-dc2a-43c7-9ab3-1eceb142467d",
   "metadata": {
    "tags": []
   },
   "outputs": [],
   "source": [
    "packages_left = [str(p) for p in Path('packages').glob('*')]\n",
    "\n",
    "for p in Path('packages').glob('*'):\n",
    "    package = json.loads(p.open().read())\n",
    "    a = Migrate(package)\n",
    "    a.migrate()\n",
    "    val = a.validate()\n",
    "    \n",
    "#     Para migrar o staging usar update_staging, testar com apenas um package\n",
    "#     print(p.name)\n",
    "#     a.update()\n",
    "#     break\n",
    "    \n",
    "    if isinstance(val, list):\n",
    "        key_errors = list(set([d['loc'][3] for d in val]))\n",
    "        _dict_errors = {key:list(findkeys(a.package_dict, key)) for key in key_errors}\n",
    "        \n",
    "        print('package: ',p,'\\n')\n",
    "        print('package_errors: ',_dict_errors,'\\n')\n",
    "        print('packages left: ',len(packages_left))\n",
    "\n",
    "        break\n",
    "    packages_left.remove(f\"packages/{p.name}\")"
   ]
  },
  {
   "cell_type": "code",
   "execution_count": null,
   "id": "c472a40c-aedb-4248-a75b-eda3201f1944",
   "metadata": {},
   "outputs": [],
   "source": []
  },
  {
   "cell_type": "code",
   "execution_count": null,
   "id": "c8e5ebd3-2a67-4819-a5cc-de9beaff25bd",
   "metadata": {},
   "outputs": [],
   "source": []
  },
  {
   "cell_type": "code",
   "execution_count": 192,
   "id": "c142e821-8973-418a-a632-a7f0671fcba4",
   "metadata": {
    "tags": []
   },
   "outputs": [],
   "source": [
    "#OLD LOG\n",
    "\n",
    "# for p in Path('packages').glob('*'):\n",
    "#     if p.name not in validated_list:\n",
    "#         package = json.loads(p.open().read())\n",
    "#         a = Migrate(package)\n",
    "#         a.migrate()\n",
    "#         val = a.validate()\n",
    "#         if isinstance(val, list):\n",
    "#             print(p.name)\n",
    "#             print(val, '\\n')\n",
    "#             print(a.package_dict, '\\n')\n",
    "            \n",
    "#             break\n",
    "#         validated_list.append(p.name)"
   ]
  },
  {
   "cell_type": "code",
   "execution_count": null,
   "id": "d35d2ef6-5638-4203-95c5-a5e385e498ca",
   "metadata": {},
   "outputs": [],
   "source": []
  },
  {
   "cell_type": "code",
   "execution_count": null,
   "id": "a6c733d9-a71e-49de-bc18-4cafd5dcee57",
   "metadata": {},
   "outputs": [],
   "source": []
  },
  {
   "cell_type": "code",
   "execution_count": null,
   "id": "86834f77-66d9-4428-937b-09531cf25ddf",
   "metadata": {},
   "outputs": [],
   "source": []
  }
 ],
 "metadata": {
  "kernelspec": {
   "display_name": "Python 3.9.1 64-bit ('base': conda)",
   "language": "python",
   "name": "python391jvsc74a57bd09265c6d278ff067d4da8b5e0a1d20cb7aab3603d0caea247effcbced8f1ecd4c"
  },
  "language_info": {
   "codemirror_mode": {
    "name": "ipython",
    "version": 3
   },
   "file_extension": ".py",
   "mimetype": "text/x-python",
   "name": "python",
   "nbconvert_exporter": "python",
   "pygments_lexer": "ipython3",
   "version": "3.9.1"
  }
 },
 "nbformat": 4,
 "nbformat_minor": 5
}
