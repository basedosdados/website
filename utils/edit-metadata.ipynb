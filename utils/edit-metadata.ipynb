{
 "cells": [
  {
   "cell_type": "markdown",
   "source": [
    "## Cabeçalho"
   ],
   "metadata": {}
  },
  {
   "cell_type": "markdown",
   "source": [
    "Para editar metadados, recomendo criar uma pasta `Base` com as pastas `mais` e `website` representantes dos respectivos repositórios da Base dos Dados. E então editar metadados em sua instância local do CKAN, que pode ser criada através das instruções contidas em [github.com/basedosdados/website](https://github.com/basedosdados/website). Após verificar que as alterações são válidas, peça a chave da API do CKAN e realize a migração. Todos estes passos usam três endpoints do CKAN: `package_show`, `bd_dataset_validate` e `package_update`.\n",
    "\n",
    "- `package_show` é um endpoint GET que retorna os dados de uma dataset com seus respectivos resources, groups e tags;\n",
    "- `bd_dataset_validate` é um endpoint POST que valida se os dados de dataset são válidos/satisfatórios;\n",
    "- `package_update` é um endpoint POST que atualiza um dataset caso a modificação seja válida.\n",
    "\n",
    "Na prática extraia dados de `package_show`, altere-os, valide com `bd_dataset_validate` e atualize com `package_update`.\n",
    "\n",
    "\\* A classe `RemoteCKAN` permite acessar os endpoints do CKAN \"diretamente\".  \n",
    "\\* As vezes é necessário realizar download de todos os datasets do CKAN Prod pro ambiente Local."
   ],
   "metadata": {}
  },
  {
   "cell_type": "code",
   "execution_count": 3,
   "source": [
    "from pathlib import Path\n",
    "\n",
    "import json\n",
    "import yaml\n",
    "from ckanapi import RemoteCKAN\n",
    "from IPython.display import clear_output"
   ],
   "outputs": [],
   "metadata": {}
  },
  {
   "cell_type": "markdown",
   "source": [
    "## Definindo os Ambientes"
   ],
   "metadata": {}
  },
  {
   "cell_type": "code",
   "execution_count": 4,
   "source": [
    "# ADICIONE CHAVES DE API DO CKAN SE NECESSÁRIO\n",
    "# AS CHAVES PODEM SER ADICIONADAS (SÃO OPCIONAIS)\n",
    "# EM <CKAN_API_TOKEN>, OMITA A VARIÁVEL CASO QUEIRA.\n",
    "\n",
    "ckan_local = RemoteCKAN(\"http://localhost:5000/\", \"<CKAN_API_TOKEN>\")\n",
    "ckan_prod = RemoteCKAN(\"https://basedosdados.org/\", \"<CKAN_API_TOKEN>\")\n",
    "ckan_stage = RemoteCKAN(\"https://staging.basedosdados.org/\", \"<CKAN_API_TOKEN>\")"
   ],
   "outputs": [],
   "metadata": {}
  },
  {
   "cell_type": "markdown",
   "source": [
    "## Visualizando um Dataset"
   ],
   "metadata": {}
  },
  {
   "cell_type": "code",
   "execution_count": 7,
   "source": [
    "package_list = ckan_prod.action.package_list()\n",
    "package_name = package_list[0]"
   ],
   "outputs": [],
   "metadata": {}
  },
  {
   "cell_type": "code",
   "execution_count": 9,
   "source": [
    "package = ckan_prod.action.package_show(name_or_id=package_name)"
   ],
   "outputs": [],
   "metadata": {}
  },
  {
   "cell_type": "markdown",
   "source": [
    "## Alterando um Dataset"
   ],
   "metadata": {}
  },
  {
   "cell_type": "markdown",
   "source": [
    "Altere algum valor de package para alterar os metadados. E então adicione como abaixo:  \n",
    "Caso queira alterar a validação, cheque `./ckanext-basedosdados/ckanext/basedosdados/validator`."
   ],
   "metadata": {}
  },
  {
   "cell_type": "code",
   "execution_count": null,
   "source": [
    "ckan_prod.package_update(**package)"
   ],
   "outputs": [],
   "metadata": {}
  },
  {
   "cell_type": "code",
   "execution_count": null,
   "source": [],
   "outputs": [],
   "metadata": {}
  }
 ],
 "metadata": {
  "interpreter": {
   "hash": "cabb1d3e495b49d7ae6a75453731385bff5cbc2f91552233906e682896fcd1d5"
  },
  "kernelspec": {
   "name": "python3",
   "display_name": "Python 3.9.6 64-bit"
  },
  "language_info": {
   "codemirror_mode": {
    "name": "ipython",
    "version": 3
   },
   "file_extension": ".py",
   "mimetype": "text/x-python",
   "name": "python",
   "nbconvert_exporter": "python",
   "pygments_lexer": "ipython3",
   "version": "3.9.6"
  }
 },
 "nbformat": 4,
 "nbformat_minor": 5
}