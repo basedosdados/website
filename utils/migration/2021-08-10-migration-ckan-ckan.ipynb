{
 "cells": [
  {
   "cell_type": "code",
   "execution_count": 1,
   "id": "f501b1d9-7d9c-444c-a740-ab64c9c4e436",
   "metadata": {},
   "outputs": [],
   "source": [
    "%load_ext autoreload\n",
    "%autoreload 2\n",
    "\n",
    "from pprint import pprint\n",
    "import sys\n",
    "import os, json, re, requests\n",
    "from ckanapi import RemoteCKAN\n",
    "import ckanapi.errors\n",
    "from ckanapi.errors import NotFound\n",
    "import pandas as pd\n",
    "import random\n",
    "\n",
    "from pathlib import Path\n",
    "import json\n",
    "\n",
    "from ckan_migration import Migrate"
   ]
  },
  {
   "cell_type": "code",
   "execution_count": 10,
   "id": "8a559e7f-e26b-42df-a748-387f12e8910e",
   "metadata": {},
   "outputs": [],
   "source": [
    "ORIGINAL_CKAN_URL = \"http://staging.basedosdados.org\""
   ]
  },
  {
   "cell_type": "code",
   "execution_count": 11,
   "id": "8887fcc3-f3ce-4a52-b6f8-b2e840fee7be",
   "metadata": {},
   "outputs": [],
   "source": [
    "def get_package_show(package):\n",
    "    api_url = ORIGINAL_CKAN_URL + f\"/api/3/action/package_show?id={package}\"\n",
    "    print(api_url)\n",
    "\n",
    "    return requests.get(api_url, verify=False).json()[\"result\"]\n",
    "\n",
    "\n",
    "def download_packages():\n",
    "    api_url = ORIGINAL_CKAN_URL + \"/api/3/action/package_list\"\n",
    "    packages = requests.get(api_url, verify=False).json()[\"result\"]\n",
    "\n",
    "    for p in packages:\n",
    "        json.dump(get_package_show(p), open(f\"packages/{p}\", \"w\"))"
   ]
  },
  {
   "cell_type": "code",
   "execution_count": 13,
   "id": "23ce97e0-7a03-4d2d-ad28-5d67c03b3d97",
   "metadata": {},
   "outputs": [],
   "source": [
    "download_packages()"
   ]
  },
  {
   "cell_type": "code",
   "execution_count": null,
   "id": "68b1f02f-d3f3-4f6b-9847-0c5a1daeadf9",
   "metadata": {},
   "outputs": [],
   "source": [
    "datas_list = [\n",
    "    \"2008-2019\",\n",
    "    \"1987-88, 1995-96, 2002-03, 2008-09\",\n",
    "    \"Atual\",\n",
    "    \"-\",\n",
    "    \"2019\",\n",
    "    \"1978, 1992-2019\",\n",
    "]\n",
    "\n",
    "\n",
    "def findkeys(node, kv):\n",
    "    if isinstance(node, list):\n",
    "        for i in node:\n",
    "            for x in findkeys(i, kv):\n",
    "                yield x\n",
    "    elif isinstance(node, dict):\n",
    "        if kv in node:\n",
    "            yield node[kv]\n",
    "        for j in node.values():\n",
    "            for x in findkeys(j, kv):\n",
    "                yield x"
   ]
  },
  {
   "cell_type": "code",
   "execution_count": null,
   "id": "a811acd2-d6c8-4aaf-ac4c-5bfff6df8a2e",
   "metadata": {},
   "outputs": [],
   "source": [
    "packages_left = [str(p) for p in Path(\"packages\").glob(\"*\")]\n",
    "\n",
    "for p in Path(\"packages\").glob(\"*\"):\n",
    "    package = json.loads(p.open().read())\n",
    "    a = Migrate(package)\n",
    "    a.migrate()\n",
    "    val = a.validate()\n",
    "\n",
    "    #     Para migrar o staging usar update_staging, testar com apenas um package\n",
    "    #     print(p.name)\n",
    "    #     a.update()\n",
    "    #     break\n",
    "\n",
    "    if isinstance(val, list):\n",
    "        key_errors = list(set([d[\"loc\"][3] for d in val]))\n",
    "        _dict_errors = {key: list(findkeys(a.package_dict, key)) for key in key_errors}\n",
    "\n",
    "        print(\"package: \", p, \"\\n\")\n",
    "        print(\"package_errors: \", _dict_errors, \"\\n\")\n",
    "        print(\"packages left: \", len(packages_left))\n",
    "\n",
    "        break\n",
    "    packages_left.remove(f\"packages/{p.name}\")"
   ]
  },
  {
   "cell_type": "code",
   "execution_count": null,
   "id": "ebb504a9-e0d2-49dd-bb0b-7d7b38fae6e2",
   "metadata": {},
   "outputs": [],
   "source": []
  },
  {
   "cell_type": "code",
   "execution_count": null,
   "id": "00b55071-439a-46d9-9528-9cb94fba79d4",
   "metadata": {},
   "outputs": [],
   "source": []
  },
  {
   "cell_type": "code",
   "execution_count": 9,
   "id": "c77e163e-8fcc-478f-92e8-75ce413cd373",
   "metadata": {},
   "outputs": [],
   "source": [
    "# ### REMOVE license_url do package\n",
    "# package = get_package_show(\"pesquisa-mensal-de-empregos-pme\")\n",
    "# package.pop('license_url')\n",
    "\n",
    "# user_agent = None\n",
    "# CKAN_API_KEY = \"put_your_key_here\"\n",
    "# remote = RemoteCKAN(\"https://staging.basedosdados.org\", user_agent=user_agent, apikey=CKAN_API_KEY)\n",
    "# remote.action.package_update(**package)"
   ]
  },
  {
   "cell_type": "code",
   "execution_count": null,
   "id": "a6c83bb7-a014-4779-999f-a0a3b0544c7f",
   "metadata": {},
   "outputs": [],
   "source": []
  },
  {
   "cell_type": "code",
   "execution_count": null,
   "id": "37004962-a80c-4892-937d-92e97ac130d2",
   "metadata": {},
   "outputs": [],
   "source": [
    "# OLD LOG\n",
    "\n",
    "# for p in Path('packages').glob('*'):\n",
    "#     if p.name not in validated_list:\n",
    "#         package = json.loads(p.open().read())\n",
    "#         a = Migrate(package)\n",
    "#         a.migrate()\n",
    "#         val = a.validate()\n",
    "#         if isinstance(val, list):\n",
    "#             print(p.name)\n",
    "#             print(val, '\\n')\n",
    "#             print(a.package_dict, '\\n')\n",
    "\n",
    "#             break\n",
    "#         validated_list.append(p.name)"
   ]
  },
  {
   "cell_type": "code",
   "execution_count": null,
   "id": "0b5d5e84-9e3c-479e-8414-eb6a051347eb",
   "metadata": {},
   "outputs": [],
   "source": []
  },
  {
   "cell_type": "code",
   "execution_count": null,
   "id": "a1a78631-6f2e-4283-93cd-75d63a955168",
   "metadata": {},
   "outputs": [],
   "source": []
  },
  {
   "cell_type": "code",
   "execution_count": null,
   "id": "cd0b8bc7-086c-4332-b2e1-36f9c5c61e51",
   "metadata": {},
   "outputs": [],
   "source": []
  },
  {
   "cell_type": "code",
   "execution_count": null,
   "id": "a48bd532-ae85-4edf-a5e9-b8efeca8e294",
   "metadata": {},
   "outputs": [],
   "source": []
  },
  {
   "cell_type": "code",
   "execution_count": null,
   "id": "14225eb5-9cbf-4e13-8201-c471e0892bbc",
   "metadata": {},
   "outputs": [],
   "source": []
  },
  {
   "cell_type": "code",
   "execution_count": null,
   "id": "ae4a639f-57b3-47ea-adce-af5ee42ca203",
   "metadata": {},
   "outputs": [],
   "source": []
  },
  {
   "cell_type": "code",
   "execution_count": null,
   "id": "b8a7fd30-3ed5-4a54-9c89-074e2b6dff54",
   "metadata": {},
   "outputs": [],
   "source": []
  },
  {
   "cell_type": "code",
   "execution_count": null,
   "id": "f5dfa353-b4dd-4ad9-be77-c9fd5a8ec007",
   "metadata": {},
   "outputs": [],
   "source": []
  },
  {
   "cell_type": "code",
   "execution_count": null,
   "id": "e49ed130-58af-442e-8ea6-e80f0116abe7",
   "metadata": {},
   "outputs": [],
   "source": []
  }
 ],
 "metadata": {
  "kernelspec": {
   "display_name": "Python 3.9.1 64-bit ('base': conda)",
   "language": "python",
   "name": "python391jvsc74a57bd09265c6d278ff067d4da8b5e0a1d20cb7aab3603d0caea247effcbced8f1ecd4c"
  },
  "language_info": {
   "codemirror_mode": {
    "name": "ipython",
    "version": 3
   },
   "file_extension": ".py",
   "mimetype": "text/x-python",
   "name": "python",
   "nbconvert_exporter": "python",
   "pygments_lexer": "ipython3",
   "version": "3.9.1"
  }
 },
 "nbformat": 4,
 "nbformat_minor": 5
}
