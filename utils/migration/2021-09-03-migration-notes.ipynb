{
 "cells": [
  {
   "cell_type": "markdown",
   "source": [
    "## Cabeçalho"
   ],
   "metadata": {}
  },
  {
   "cell_type": "code",
   "execution_count": null,
   "source": [
    "from pathlib import Path\n",
    "\n",
    "import yaml\n",
    "from ckanapi import RemoteCKAN\n",
    "from IPython.display import clear_output"
   ],
   "outputs": [],
   "metadata": {}
  },
  {
   "cell_type": "code",
   "execution_count": null,
   "source": [
    "%cd /home/vncsna/Base"
   ],
   "outputs": [],
   "metadata": {}
  },
  {
   "cell_type": "code",
   "execution_count": null,
   "source": [
    "# LEMBRAR QUE O NOME DA BASE FOI MUDADA EM\n",
    "# bases/br_anatel_banda_larga_fixa\n",
    "# -> bases/acessos_de_banda_larga_fixa_no_brasil\n",
    "# bases/br_anatel_telefonia_movel\n",
    "# -> bases/acessos_de_telefonia_movel_no_brasil\n",
    "# bases/br_inep_sinopse_estatistica_educacao_basica\n",
    "# -> bases/sinopses_estatisticas_da_educacao_basica"
   ],
   "outputs": [],
   "metadata": {}
  },
  {
   "cell_type": "markdown",
   "source": [
    "## Atualização da Descrição"
   ],
   "metadata": {}
  },
  {
   "cell_type": "code",
   "execution_count": null,
   "source": [
    "# chaves de api omitidas\n",
    "\n",
    "ckan_local = RemoteCKAN(\"http://localhost:5000/\")\n",
    "ckan_prod = RemoteCKAN(\"https://basedosdados.org/\")\n",
    "ckan_stage = RemoteCKAN(\"https://staging.basedosdados.org/\")"
   ],
   "outputs": [],
   "metadata": {}
  },
  {
   "cell_type": "code",
   "execution_count": null,
   "source": [
    "def get_site_notes(name: str, ckan: RemoteCKAN = ckan_prod):\n",
    "    try:\n",
    "        return ckan.action.package_show(name_or_id=name)[\"notes\"]\n",
    "    except:\n",
    "        return \"\"\n",
    "\n",
    "\n",
    "def get_mais_notes(name: str, folder: str = \"/home/vncsna/Base/mais/bases\"):\n",
    "    name = name.replace(\"-\", \"_\")\n",
    "    filepath = Path(f\"{folder}/{name}/dataset_config.yaml\")\n",
    "\n",
    "    if filepath.exists():\n",
    "        with open(filepath, \"r\") as file:\n",
    "            package = yaml.safe_load(file.read())\n",
    "            return package[\"description\"]\n",
    "\n",
    "    return \"\"\n",
    "\n",
    "\n",
    "def update_notes_one(name: str, ckan: RemoteCKAN = ckan_stage):\n",
    "    try:\n",
    "        package = ckan.action.package_show(name_or_id=name)\n",
    "\n",
    "        mais_notes = get_mais_notes(name)\n",
    "        site_notes = get_site_notes(name)\n",
    "\n",
    "        if len(site_notes) > 0:\n",
    "            package[\"notes\"] = site_notes\n",
    "        else:\n",
    "            package[\"notes\"] = mais_notes\n",
    "\n",
    "        package.pop(\"dataset_id\", 0)\n",
    "        package.pop(\"dataset_args\", 0)\n",
    "        package.pop(\"download_type\", 0)\n",
    "        if \"extras\" in package:\n",
    "            if len(package[\"extras\"]) > 0:\n",
    "                if \"value\" in package[\"extras\"][0]:\n",
    "                    package[\"extras\"][0][\"value\"].pop(\"download_type\", 0)\n",
    "\n",
    "        return ckan.action.package_update(**package)\n",
    "    except:\n",
    "        print(name)\n",
    "\n",
    "\n",
    "def update_notes_all(ckan: RemoteCKAN = ckan_stage):\n",
    "    packages = ckan.action.package_list()\n",
    "\n",
    "    for package in packages:\n",
    "        update_notes_one(package)"
   ],
   "outputs": [],
   "metadata": {}
  },
  {
   "cell_type": "code",
   "execution_count": null,
   "source": [
    "update_notes_all()"
   ],
   "outputs": [],
   "metadata": {}
  },
  {
   "cell_type": "markdown",
   "source": [
    "## Debugando em um CKAN Local"
   ],
   "metadata": {}
  },
  {
   "cell_type": "code",
   "execution_count": null,
   "source": [
    "# # debugging on local ckan\n",
    "# # update local ckan with stage packages\n",
    "# for package in ckan_stage.action.package_list():\n",
    "#   package = ckan_stage.action.package_show(name_or_id=package)\n",
    "\n",
    "#   package.pop(\"download_type\", 0)\n",
    "\n",
    "#   if \"extras\" in package:\n",
    "#     if len(package[\"extras\"]) > 0:\n",
    "#       if \"value\" in package[\"extras\"][0]:\n",
    "#         package[\"extras\"][0][\"value\"].pop(\"download_type\", 0)\n",
    "\n",
    "#   package.pop(\"id\", 0)\n",
    "#   package.pop(\"dataset_id\", 0)\n",
    "#   package.pop(\"dataset_args\", 0)\n",
    "\n",
    "#   for index, resource in enumerate(package.get(\"resources\", [])):\n",
    "#     package[\"resources\"][index].pop(\"id\", 0)\n",
    "\n",
    "#   ckan_local.action.package_create(**package)"
   ],
   "outputs": [],
   "metadata": {}
  }
 ],
 "metadata": {
  "interpreter": {
   "hash": "cabb1d3e495b49d7ae6a75453731385bff5cbc2f91552233906e682896fcd1d5"
  },
  "kernelspec": {
   "name": "python3",
   "display_name": "Python 3.9.6 64-bit"
  },
  "language_info": {
   "codemirror_mode": {
    "name": "ipython",
    "version": 3
   },
   "file_extension": ".py",
   "mimetype": "text/x-python",
   "name": "python",
   "nbconvert_exporter": "python",
   "pygments_lexer": "ipython3",
   "version": "3.9.6"
  }
 },
 "nbformat": 4,
 "nbformat_minor": 5
}