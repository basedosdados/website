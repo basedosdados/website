{
 "cells": [
  {
   "cell_type": "code",
   "execution_count": 123,
   "id": "f501b1d9-7d9c-444c-a740-ab64c9c4e436",
   "metadata": {},
   "outputs": [
    {
     "name": "stdout",
     "output_type": "stream",
     "text": [
      "The autoreload extension is already loaded. To reload it, use:\n",
      "  %reload_ext autoreload\n"
     ]
    }
   ],
   "source": [
    "%load_ext autoreload\n",
    "%autoreload 2\n",
    "\n",
    "from pprint import pprint\n",
    "import sys\n",
    "import os, json, re, requests\n",
    "from ckanapi import RemoteCKAN\n",
    "import ckanapi.errors\n",
    "from ckanapi.errors import NotFound, ValidationError\n",
    "import pandas as pd\n",
    "import random\n",
    "import numpy as np\n",
    "\n",
    "from pathlib import Path\n",
    "import json\n",
    "\n",
    "# from ckan_migration import Migrate"
   ]
  },
  {
   "cell_type": "code",
   "execution_count": 131,
   "id": "8a559e7f-e26b-42df-a748-387f12e8910e",
   "metadata": {},
   "outputs": [],
   "source": [
    "ORIGINAL_CKAN_URL = 'https://staging.basedosdados.org'\n",
    "# ORIGINAL_CKAN_URL = 'http://localhost:5000'"
   ]
  },
  {
   "cell_type": "code",
   "execution_count": 132,
   "id": "803d7064-00ca-4b9f-8035-608687343b75",
   "metadata": {},
   "outputs": [],
   "source": [
    "def download_packages():\n",
    "    api_url = ORIGINAL_CKAN_URL + '/api/3/action/package_search?q=&rows=2000'\n",
    "    packages = requests.get(api_url, verify=False).json()['result']['results']\n",
    "    for p in packages:\n",
    "        if not os.path.isdir(\"packages/\"):\n",
    "            os.mkdir('packages/')\n",
    "        name= p['name']\n",
    "        json.dump(p, open(f'packages/{name}', 'w'))\n",
    "    return packages\n",
    "\n",
    "\n",
    "def ckan_api_staging():\n",
    "#     user_agent = None\n",
    "    CKAN_API_KEY = \"api_key\"\n",
    "    CKAN_URL = os.environ.get(\"CKAN_URL\", ORIGINAL_CKAN_URL)\n",
    "\n",
    "    return RemoteCKAN(CKAN_URL, apikey=CKAN_API_KEY)\n",
    "\n",
    "def update_staging(package_dict):\n",
    "    try:\n",
    "        ckan_api_staging().action.package_update(**package_dict)\n",
    "    except NotFound as e:\n",
    "        print(e)\n",
    "\n",
    "\n",
    "def validate(package_dict):\n",
    "        try:\n",
    "            return ckan_api_staging().action.package_validate(**package_dict)\n",
    "        except ValidationError as e:\n",
    "            return e.error_dict[\"message\"]    "
   ]
  },
  {
   "cell_type": "code",
   "execution_count": 134,
   "id": "3b532eac-addd-47ce-92a9-49335854977b",
   "metadata": {},
   "outputs": [],
   "source": [
    "# all_packages = download_packages()"
   ]
  },
  {
   "cell_type": "code",
   "execution_count": 135,
   "id": "a811acd2-d6c8-4aaf-ac4c-5bfff6df8a2e",
   "metadata": {},
   "outputs": [],
   "source": [
    "all_packages_dict = {p['name']:p for p in all_packages}\n",
    "\n",
    "null_titles_dash = {}\n",
    "null_titles_underscore = {}\n",
    "\n",
    "for package_name in all_packages_dict:\n",
    "    package = all_packages_dict[package_name]\n",
    "    if not package['title']:\n",
    "        null_titles_dash[package['name']]=package\n",
    "        null_titles_underscore[package['name'].replace('-','_')] = all_packages_dict.get(package['name'].replace('-','_'))"
   ]
  },
  {
   "cell_type": "code",
   "execution_count": 136,
   "id": "ab9e4062-8856-45c2-aa98-a26b3297d112",
   "metadata": {},
   "outputs": [
    {
     "data": {
      "text/plain": [
       "['mundo-transrespect-transphobia',\n",
       " 'eu-fra-lgbt',\n",
       " 'br-ponte-indicadores',\n",
       " 'br-me-cno',\n",
       " 'br-mc-indicadores',\n",
       " 'br-isp-estatisticas-seguranca',\n",
       " 'br-inmet-bdmep',\n",
       " 'br-ibge-cbo-2002',\n",
       " 'br-ggb-relatorio-lgbtqi',\n",
       " 'br-cgu-servidores-executivo-federal',\n",
       " 'br-cgu-pessoal-executivo-federal',\n",
       " 'br-camara-dados-abertos',\n",
       " 'br-camara-atividade-legislativa',\n",
       " 'br-abrinq-oca']"
      ]
     },
     "execution_count": 136,
     "metadata": {},
     "output_type": "execute_result"
    }
   ],
   "source": [
    "### Packages com title null\n",
    "list(null_titles_dash.keys())"
   ]
  },
  {
   "cell_type": "code",
   "execution_count": 137,
   "id": "9889d546-41cc-45c9-ae5e-735cbfcb5a74",
   "metadata": {},
   "outputs": [
    {
     "data": {
      "text/plain": [
       "['br_camara_atividade_legislativa', 'br_abrinq_oca']"
      ]
     },
     "execution_count": 137,
     "metadata": {},
     "output_type": "execute_result"
    }
   ],
   "source": [
    "### Packages duplicados\n",
    "[title for title in null_titles_underscore if null_titles_underscore[title] is not None]"
   ]
  },
  {
   "cell_type": "code",
   "execution_count": null,
   "id": "1aa94737-9674-41a2-909b-824d45ebfeb8",
   "metadata": {},
   "outputs": [],
   "source": []
  },
  {
   "cell_type": "code",
   "execution_count": 139,
   "id": "071bfea7-fe55-4623-8a50-b180c1ff604b",
   "metadata": {},
   "outputs": [
    {
     "name": "stdout",
     "output_type": "stream",
     "text": [
      "world_competitiveness_ranking\n",
      "br_camara_atividade_legislativa\n",
      "br_abrinq_oca\n"
     ]
    }
   ],
   "source": [
    "### Packages para renomear name\n",
    "for package_name in all_packages_dict:\n",
    "    package = all_packages_dict[package_name]\n",
    "    if '_' in package['name']:\n",
    "        print(package['name'])"
   ]
  },
  {
   "cell_type": "code",
   "execution_count": null,
   "id": "f9a669d1-4d10-4b13-acb1-9ed346f5eb8a",
   "metadata": {},
   "outputs": [],
   "source": []
  }
 ],
 "metadata": {
  "kernelspec": {
   "display_name": "Python 3.9.1 64-bit ('base': conda)",
   "language": "python",
   "name": "python391jvsc74a57bd09265c6d278ff067d4da8b5e0a1d20cb7aab3603d0caea247effcbced8f1ecd4c"
  },
  "language_info": {
   "codemirror_mode": {
    "name": "ipython",
    "version": 3
   },
   "file_extension": ".py",
   "mimetype": "text/x-python",
   "name": "python",
   "nbconvert_exporter": "python",
   "pygments_lexer": "ipython3",
   "version": "3.9.1"
  }
 },
 "nbformat": 4,
 "nbformat_minor": 5
}
