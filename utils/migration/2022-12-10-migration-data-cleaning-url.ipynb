{
 "cells": [
  {
   "cell_type": "code",
   "execution_count": null,
   "id": "f501b1d9-7d9c-444c-a740-ab64c9c4e436",
   "metadata": {},
   "outputs": [],
   "source": [
    "# Importing modules\n",
    "from tqdm           import tqdm\n",
    "from ckanapi        import RemoteCKAN\n",
    "from basedosdados   import read_sql\n",
    "from ckanapi.errors import NotFound, ValidationError\n",
    "\n",
    "import os\n",
    "import json\n",
    "import requests\n",
    "import pandas as pd\n",
    "import ckanapi.errors"
   ]
  },
  {
   "cell_type": "code",
   "execution_count": null,
   "id": "ea2f9c6c",
   "metadata": {},
   "outputs": [],
   "source": [
    "# Creating migration class \n",
    "\n",
    "class Migrator:\n",
    "    def __init__(self, ckan_remote: RemoteCKAN, package_dict):\n",
    "        self.ckan_remote  = ckan_remote\n",
    "        self.package_dict = package_dict\n",
    "\n",
    "    def update(self):\n",
    "        try:\n",
    "            self.ckan_remote.action.package_update(**self.package_dict)\n",
    "        except NotFound as e:\n",
    "            print(e)\n",
    "\n",
    "    def validate(self):\n",
    "        try:\n",
    "            self.ckan_remote.action.bd_dataset_validate(**self.package_dict)\n",
    "        except NotFound as e:\n",
    "            print(e)"
   ]
  },
  {
   "cell_type": "code",
   "execution_count": null,
   "id": "0a5a525f",
   "metadata": {},
   "outputs": [],
   "source": [
    "\n",
    "def download_packages(ORIGINAL_CKAN_URL, env):\n",
    "    \"\"\"Downloads packages from CKAN\"\"\"\n",
    "\n",
    "    api_url       = ORIGINAL_CKAN_URL + \"/api/3/action/package_search?q=&rows=3000\"\n",
    "    packages_list = requests.get(api_url, verify=False).json()[\"result\"][\"results\"]\n",
    "\n",
    "    for package in packages_list:\n",
    "\n",
    "        if not os.path.isdir(f\"/tmp/packages/\"):\n",
    "\n",
    "            os.mkdir(f\"/tmp/packages/\")\n",
    "\n",
    "        if not os.path.isdir(f\"/tmp/packages/{env}\"):\n",
    "\n",
    "            os.mkdir(f\"/tmp/packages/{env}\")\n",
    "\n",
    "        name = package[\"name\"]\n",
    "\n",
    "        json.dump(package, open(f\"/tmp/packages/{env}/{name}\", \"w\"))\n",
    "\n",
    "    return packages_list"
   ]
  },
  {
   "cell_type": "code",
   "execution_count": null,
   "id": "0708ebea",
   "metadata": {},
   "outputs": [],
   "source": [
    "def remove_data_cleaning_url(package):\n",
    "    \"\"\"Remove data cleaning url from package dict\"\"\"\n",
    "\n",
    "    for i, resource in enumerate(package[\"resources\"]):\n",
    "\n",
    "        if resource[\"resource_type\"] == \"bdm_table\":\n",
    "\n",
    "            if \"data_cleaning_code_url\" in resource:\n",
    "\n",
    "                del resource[\"data_cleaning_code_url\"]         \n",
    "                \n",
    "    return package"
   ]
  },
  {
   "cell_type": "code",
   "execution_count": null,
   "id": "b9858866",
   "metadata": {},
   "outputs": [],
   "source": [
    "# Global variables \n",
    "\n",
    "LOCAL_CKAN_URL = \"http://localhost\"\n",
    "DEV_CKAN_URL   = \"https://staging.basedosdados.org\"\n",
    "PROD_CKAN_URL  = \"https://basedosdados.org\"\n",
    "\n",
    "CKAN_API_KEY_LOCAL = os.environ[\"CKAN_API_KEY_LOCAL\"]\n",
    "CKAN_API_KEY_DEV   = os.environ[\"CKAN_API_KEY_DEV\"  ]\n",
    "CKAN_API_KEY_PROD  = os.environ[\"CKAN_API_KEY_PROD\" ]\n"
   ]
  },
  {
   "cell_type": "code",
   "execution_count": null,
   "id": "3b532eac-addd-47ce-92a9-49335854977b",
   "metadata": {
    "scrolled": true,
    "tags": []
   },
   "outputs": [],
   "source": [
    "# Downloading packages\n",
    "\n",
    "local_packages = download_packages(LOCAL_CKAN_URL, \"local\")\n",
    "dev_packages   = download_packages(DEV_CKAN_URL  , \"dev\"  )\n",
    "prod_packages  = download_packages(PROD_CKAN_URL , \"prod\" )"
   ]
  },
  {
   "cell_type": "code",
   "execution_count": null,
   "id": "885815cb",
   "metadata": {},
   "outputs": [],
   "source": [
    "# Removing data cleaning url from local packages\n",
    "\n",
    "update_packages = []\n",
    "for package in tqdm(local_packages):\n",
    "        update_packages.append(remove_data_cleaning_url(package))"
   ]
  },
  {
   "cell_type": "code",
   "execution_count": null,
   "id": "2a718f63",
   "metadata": {},
   "outputs": [],
   "source": [
    "# Instantiating ckanapi RemoteCKAN object\n",
    "\n",
    "ckan_remote = RemoteCKAN(LOCAL_CKAN_URL, apikey=CKAN_API_KEY_LOCAL)"
   ]
  },
  {
   "cell_type": "code",
   "execution_count": null,
   "id": "aba4529c",
   "metadata": {},
   "outputs": [],
   "source": [
    "# Validating and updating packages changes\n",
    "\n",
    "for i, package in tqdm(enumerate(update_packages)):\n",
    "    try:\n",
    "        migration = Migrator(ckan_remote, package)\n",
    "        migration.validate()\n",
    "        migration.update()\n",
    "    except:\n",
    "        print(i)\n",
    "        break"
   ]
  },
  {
   "cell_type": "code",
   "execution_count": null,
   "id": "416cff49",
   "metadata": {},
   "outputs": [],
   "source": [
    "# Dev packages \n",
    "\n",
    "update_packages = []\n",
    "for package in tqdm(dev_packages):\n",
    "        update_packages.append(remove_data_cleaning_url(package))\n",
    "\n",
    "ckan_remote = RemoteCKAN(DEV_CKAN_URL, apikey=CKAN_API_KEY_DEV)\n",
    "\n",
    "for i, package in tqdm(enumerate(update_packages)):\n",
    "    migration = Migrator(ckan_remote, package)\n",
    "    migration.validate()\n",
    "    migration.update()"
   ]
  },
  {
   "cell_type": "code",
   "execution_count": null,
   "id": "5163f92a",
   "metadata": {},
   "outputs": [],
   "source": [
    "# Prod packages\n",
    "\n",
    "update_packages = []\n",
    "for package in tqdm(prod_packages):\n",
    "        update_packages.append(remove_data_cleaning_url(package))\n",
    "\n",
    "ckan_remote = RemoteCKAN(PROD_CKAN_URL, apikey=CKAN_API_KEY_PROD)\n",
    "\n",
    "for i, package in tqdm(enumerate(update_packages)):\n",
    "    migration = Migrator(ckan_remote, package)\n",
    "    migration.validate()\n",
    "    migration.update()"
   ]
  }
 ],
 "metadata": {
  "kernelspec": {
   "display_name": "Python 3",
   "language": "python",
   "name": "python3"
  },
  "language_info": {
   "codemirror_mode": {
    "name": "ipython",
    "version": 3
   },
   "file_extension": ".py",
   "mimetype": "text/x-python",
   "name": "python",
   "nbconvert_exporter": "python",
   "pygments_lexer": "ipython3",
   "version": "3.10.6"
  },
  "vscode": {
   "interpreter": {
    "hash": "916dbcbb3f70747c44a77c7bcd40155683ae19c65e1c03b4aa3499c5328201f1"
   }
  }
 },
 "nbformat": 4,
 "nbformat_minor": 5
}
